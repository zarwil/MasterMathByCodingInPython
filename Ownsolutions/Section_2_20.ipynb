{
 "cells": [
  {
   "cell_type": "code",
   "execution_count": 7,
   "metadata": {},
   "outputs": [
    {
     "name": "stdout",
     "output_type": "stream",
     "text": [
      "1.0\n"
     ]
    }
   ],
   "source": [
    "from IPython.display import display, Math\n",
    "\n",
    "def compute_xy(x, y):\n",
    "    return x ** y\n",
    "\n",
    "def compute_x_div_y(x, y):\n",
    "    return x / y\n",
    "\n",
    "inpu2 = int(input(\"Press 1 to compute x^y or 2 to compute x/y: \"))\n",
    "if inpu2 == 1:\n",
    "    x = int(input(\"Enter x: \"))\n",
    "    y = int(input(\"Enter y: \"))\n",
    "    print(compute_xy(x, y))\n",
    "elif inpu2 == 2:\n",
    "    x = int(input(\"Enter x: \"))\n",
    "    y = int(input(\"Enter y: \"))\n",
    "    print(compute_x_div_y(x, y))\n",
    "else:\n",
    "    print(\"Invalid input\")\n",
    "\n"
   ]
  },
  {
   "cell_type": "code",
   "execution_count": 4,
   "metadata": {},
   "outputs": [],
   "source": [
    "try:\n",
    "    number = int(input(\"Enter a number: \"))\n",
    "except ValueError:\n",
    "    print(\"That's not a valid number!\")"
   ]
  }
 ],
 "metadata": {
  "kernelspec": {
   "display_name": "Python 3",
   "language": "python",
   "name": "python3"
  },
  "language_info": {
   "codemirror_mode": {
    "name": "ipython",
    "version": 3
   },
   "file_extension": ".py",
   "mimetype": "text/x-python",
   "name": "python",
   "nbconvert_exporter": "python",
   "pygments_lexer": "ipython3",
   "version": "3.10.4"
  }
 },
 "nbformat": 4,
 "nbformat_minor": 2
}
